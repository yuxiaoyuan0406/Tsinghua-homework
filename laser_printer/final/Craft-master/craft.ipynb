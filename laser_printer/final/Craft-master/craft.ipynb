{
 "cells": [
  {
   "cell_type": "code",
   "execution_count": 1,
   "metadata": {},
   "outputs": [],
   "source": [
    "import sqlite3 as db\n",
    "import numpy as np\n",
    "from math import cos, sin, acos, asin, pi\n",
    "from scipy.optimize import fsolve\n",
    "# 长度单位 mm\n",
    "# 角度单位 度"
   ]
  },
  {
   "cell_type": "code",
   "execution_count": 2,
   "metadata": {},
   "outputs": [],
   "source": [
    "fd = open(\"command.txt\",'w')"
   ]
  },
  {
   "cell_type": "code",
   "execution_count": 3,
   "metadata": {},
   "outputs": [],
   "source": [
    "con = db.connect('craft.db')"
   ]
  },
  {
   "cell_type": "code",
   "execution_count": 4,
   "metadata": {},
   "outputs": [],
   "source": [
    "c = con.cursor()"
   ]
  },
  {
   "cell_type": "code",
   "execution_count": 5,
   "metadata": {},
   "outputs": [],
   "source": [
    "c.execute('select * from block')\n",
    "rawdata = np.array(c.fetchall())"
   ]
  },
  {
   "cell_type": "code",
   "execution_count": 6,
   "metadata": {},
   "outputs": [],
   "source": [
    "rawdata_1 = np.delete(rawdata,[0,1],axis=1)"
   ]
  },
  {
   "cell_type": "code",
   "execution_count": 7,
   "metadata": {},
   "outputs": [],
   "source": [
    "rawdata_2 = rawdata_1[rawdata_1[:,3]>1,:]"
   ]
  },
  {
   "cell_type": "code",
   "execution_count": 8,
   "metadata": {},
   "outputs": [],
   "source": [
    "rawdata_3 = rawdata_2[rawdata_2[:,1]>1,:]"
   ]
  },
  {
   "cell_type": "code",
   "execution_count": 9,
   "metadata": {
    "scrolled": true
   },
   "outputs": [
    {
     "name": "stdout",
     "output_type": "stream",
     "text": [
      "[[ 1  2 -1  2]\n",
      " [ 1  3 -1  2]\n",
      " [ 2  4 -1  3]\n",
      " [ 1  4  0  3]\n",
      " [ 0  4 -1  3]\n",
      " [ 1  4 -2  3]\n",
      " [ 1  4 -1  2]\n",
      " [ 1  5 -1  3]]\n"
     ]
    }
   ],
   "source": [
    "print(rawdata_3)"
   ]
  },
  {
   "cell_type": "code",
   "execution_count": 10,
   "metadata": {},
   "outputs": [],
   "source": [
    "rawdata_3_T = rawdata_3.T"
   ]
  },
  {
   "cell_type": "code",
   "execution_count": 11,
   "metadata": {},
   "outputs": [],
   "source": [
    "rawdata_3_T_min = rawdata_3_T.min(axis=1)"
   ]
  },
  {
   "cell_type": "code",
   "execution_count": 12,
   "metadata": {},
   "outputs": [
    {
     "data": {
      "text/plain": [
       "array([[ 0,  2, -2,  2],\n",
       "       [ 0,  2, -2,  2],\n",
       "       [ 0,  2, -2,  2],\n",
       "       [ 0,  2, -2,  2],\n",
       "       [ 0,  2, -2,  2],\n",
       "       [ 0,  2, -2,  2],\n",
       "       [ 0,  2, -2,  2],\n",
       "       [ 0,  2, -2,  2]])"
      ]
     },
     "execution_count": 12,
     "metadata": {},
     "output_type": "execute_result"
    }
   ],
   "source": [
    "delete_min = np.tile(rawdata_3_T_min,(len(rawdata_3_T.T),1))\n",
    "delete_min"
   ]
  },
  {
   "cell_type": "code",
   "execution_count": 13,
   "metadata": {
    "scrolled": true
   },
   "outputs": [],
   "source": [
    "data = (rawdata_3_T -delete_min.T).T\n",
    "data[:, [1, 2]] = data[:, [2, 1]]"
   ]
  },
  {
   "cell_type": "code",
   "execution_count": 14,
   "metadata": {},
   "outputs": [],
   "source": [
    "data = data[data[:,1].argsort()]\n",
    "data = data[data[:,0].argsort()]\n",
    "data = data[data[:,2].argsort()]\n",
    "data = data[data[:,3].argsort()]"
   ]
  },
  {
   "cell_type": "code",
   "execution_count": 15,
   "metadata": {},
   "outputs": [
    {
     "data": {
      "text/plain": [
       "array([[30, 30,  0,  0],\n",
       "       [30, 30, 30,  0],\n",
       "       [30, 30, 60,  0],\n",
       "       [ 0, 30, 60,  1],\n",
       "       [30,  0, 60,  1],\n",
       "       [30, 60, 60,  1],\n",
       "       [60, 30, 60,  1],\n",
       "       [30, 30, 90,  1]])"
      ]
     },
     "execution_count": 15,
     "metadata": {},
     "output_type": "execute_result"
    }
   ],
   "source": [
    "data = data * [30,30,30,1]\n",
    "data"
   ]
  },
  {
   "cell_type": "code",
   "execution_count": 16,
   "metadata": {},
   "outputs": [],
   "source": [
    "def fun1(x,*args):\n",
    "    x0 = float(x[0])\n",
    "    x1 = float(x[1])\n",
    "    return [\n",
    "        - args[0] + args[2] * cos(x0) + args[3] * cos(x1) ,\n",
    "        - args[1] + args[2] * sin(x0) + args[3] * sin(x1)\n",
    "    ]"
   ]
  },
  {
   "cell_type": "code",
   "execution_count": 17,
   "metadata": {},
   "outputs": [],
   "source": [
    "class roboarm:\n",
    "    def __init__(self, robox,roboy,roboz, r1, r2):\n",
    "        self.robox = robox\n",
    "        self.roboy = roboy\n",
    "        self.roboz = roboz\n",
    "        self.r1 = r1;\n",
    "        self.r2 = r2;\n",
    "        self.whiteblocknum = 4;\n",
    "        self.whiteblockarray = [[-4,15],[22,48],[-38,43],[-10,77]]\n",
    "        self.blackblocknum = 4;\n",
    "        self.blackblockarray = [[-81,50],[-109,16],[-113,77],[-141,43]]\n",
    "        self.highmax = 150\n",
    "        \n",
    "    def readoxyz(self, ox, oy, oz):\n",
    "        self.ox = ox\n",
    "        self.oy = oy\n",
    "        self.oz = oz\n",
    "        \n",
    "    def readnowxyz(self,nowx, nowy, nowz):\n",
    "        self.nowx = nowx\n",
    "        self.nowy = nowy\n",
    "        self.nowz = nowz\n",
    "        \n",
    "    def readcarxyz(self,carx,cary,carz):        \n",
    "        self.carx = carx\n",
    "        self.cary = cary\n",
    "        self.carz = carz\n",
    "        \n",
    "    def readproductxyz(self, prodectx, prodecty, prodectz):\n",
    "        self.prodectx = prodectx\n",
    "        self.prodecty = prodecty\n",
    "        self.prodectz = prodectz\n",
    "        \n",
    "    def xytotheta(self, mode):\n",
    "        farr =  np.zeros(shape=(100,3))\n",
    "        for i in range(-5, 5):\n",
    "            for j in range(-5, 5):\n",
    "                result = fsolve(fun1, [i,j],args=(self.ox - self.robox,self.oy - self.roboy,self.r1,self.r2))\n",
    "                a = float(result[0]) / pi * 180.0\n",
    "                b = float(result[1]) / pi * 180.0\n",
    "                a = a % 360\n",
    "                b = b % 360\n",
    "                farr[(i+5)*10+(j+5)] = [a,b,a + b]\n",
    "        farr=farr[farr[:,2].argsort()]\n",
    "        print(farr[mode][0], farr[mode][1])\n",
    "        return farr[mode][0], farr[mode][1]\n",
    "        \n",
    "    def cal(self, bx,by,bz):\n",
    "        self.readoxyz(self.nowx, self.nowy,self.nowz)\n",
    "        self.nowtheta1, self.nowtheta2 = self.xytotheta(0)\n",
    "        self.nowthetah = self.oz - self.roboz\n",
    "#         print(self.nowtheta1,self.nowtheta2,self.nowthetah)\n",
    "        self.readoxyz(bx, by, bz)\n",
    "        self.theta1, self.theta2 = self.xytotheta(0)\n",
    "        self.thetah = self.oz - self.roboz\n",
    "#         print(self.theta1,self.theta2,self.thetah)\n",
    "        dtheta1 = self.theta1 - self.nowtheta1\n",
    "        dtheta2 = self.theta2 - self.nowtheta2\n",
    "        dthetah = self.thetah - self.nowthetah\n",
    "        return dtheta1,dtheta2,dthetah\n",
    "    \n",
    "    def move(self,bx,by,bz):    \n",
    "        move1, move2, moveh = self.cal(bx,by,bz)\n",
    "        print(move1,move2,moveh)\n",
    "        fd.write(\"/control/robo/x {}\\n\".format(move1))\n",
    "        fd.write(\"/control/robo/y {}\\n\".format(move2))\n",
    "        fd.write(\"/control/robo/z {}\\n\".format(moveh))\n",
    "        fd.write(\"/control/robo/a {}\\n\".format(-(move1+move2)))\n",
    "        fd.write(\"/control/robo/do 1\\n\")\n",
    "        self.readnowxyz(bx,by,bz)\n",
    "        \n",
    "    def getblock(self, btype):\n",
    "        if btype == 0:\n",
    "            self.whiteblocknum = self.whiteblocknum - 1;\n",
    "            print(\" block:\",self.whiteblockarray[self.whiteblocknum][0], self.whiteblockarray[self.whiteblocknum][1])\n",
    "            return self.whiteblockarray[self.whiteblocknum][0] + self.carx, self.whiteblockarray[self.whiteblocknum][1] + self.cary\n",
    "        if btype == 1:\n",
    "            self.blackblocknum = self.blackblocknum - 1;\n",
    "            print(\" block:\",self.blackblockarray[self.blackblocknum][0], self.blackblockarray[self.blackblocknum][1])\n",
    "            return self.blackblockarray[self.blackblocknum][0] + self.carx, self.blackblockarray[self.blackblocknum][1] + self.cary            \n",
    "    \n",
    "    def getblockstate(self):\n",
    "        if self.whiteblocknum == 0 or self.whiteblocknum == 0:\n",
    "            self.whiteblocknum = 4 \n",
    "            self.blackblocknum = 4\n",
    "            return 0\n",
    "        else:\n",
    "            return 1\n",
    "    \n",
    "    def getprodectxyz(self, blockx, blocky, blockz):\n",
    "        return self.prodectx + blockx, self.prodecty + blocky, self.prodectz + blockz\n",
    "    \n",
    "    def openair(self):\n",
    "        fd.write(\"/control/robo/vacumn 1\\n\")\n",
    "    \n",
    "    def closeair(self):\n",
    "        fd.write(\"/control/robo/vacumn 0\\n\")\n",
    "    \n",
    "    def getblock2(self):\n",
    "        if self.whiteblocknum == 4:\n",
    "            return 0\n",
    "        elif self.blackblocknum == 4:\n",
    "            return 1"
   ]
  },
  {
   "cell_type": "code",
   "execution_count": 18,
   "metadata": {},
   "outputs": [],
   "source": [
    "class WAREHOUSE:\n",
    "    def __init__(self):\n",
    "        self.placestate = 0\n",
    "        self.airstate =0\n",
    "        self.high= [60,60]\n",
    "        self.trushhigh = 0\n",
    "    def gowhite(self):\n",
    "        if self.placestate == 0:\n",
    "            self.placestate = 0\n",
    "        elif self.placestate == 1:\n",
    "            fd.write(\"/control/warehouse/do 2\\n\")\n",
    "            self.placestate = 0\n",
    "        elif self.placestate ==2:\n",
    "            fd.write(\"/control/warehouse/do 4\\n\")\n",
    "            self.placestate = 0\n",
    "        \n",
    "    def goblack(self):\n",
    "        if self.placestate == 0:\n",
    "            fd.write(\"/control/warehouse/do 1\\n\")\n",
    "            self.placestate = 1\n",
    "        elif self.placestate == 1:\n",
    "            self.placestate = 1\n",
    "        elif self.placestate ==2:\n",
    "            fd.write(\"/control/warehouse/do 2\\n\")\n",
    "            self.placestate = 1\n",
    "            \n",
    "    def gotrush(self):\n",
    "        if self.placestate == 0:\n",
    "            fd.write(\"/control/warehouse/do 3\\n\")\n",
    "            self.placestate = 2\n",
    "        elif self.placestate == 1:\n",
    "            fd.write(\"/control/warehouse/do 1\\n\")\n",
    "            self.placestate = 2\n",
    "        elif self.placestate ==2:       \n",
    "            self.placestate = 2  \n",
    "    \n",
    "    def waretocar(self,btype):\n",
    "#        if self.airstate == 0:\n",
    "#      ？   fd.write(\"/control/warehouse/high {}\\n\".format(self.high[btype]))\n",
    "        fd.write(\"/control/warehouse/do 5\\n\")\n",
    "        self.high[btype] = self.high[btype] - 30\n",
    "#            self.airstate = 1\n",
    "#        elif self.airstate ==1:\n",
    "#            self.airstate = 1\n",
    "\n",
    "    def cartoware(self):\n",
    " #       if self.airstate == 0:\n",
    "  #          self.airstate = 0\n",
    "   #     elif self.airstate ==1:\n",
    "#         fd.write(\"/control/warehouse/high {}\\n\".format(self.trushhigh))\n",
    "        fd.write(\"/control/warehouse/do 6\\n\")\n",
    "        self.trushhigh = self.trushhigh + 30\n",
    "         #   self.airstate = 0"
   ]
  },
  {
   "cell_type": "code",
   "execution_count": 19,
   "metadata": {},
   "outputs": [],
   "source": [
    "class CAR:\n",
    "    def __init__(self):\n",
    "        self.carstate = 0\n",
    "        \n",
    "    def gowhite(self):\n",
    "        if self.carstate == 0:\n",
    "            self.carstate = 0\n",
    "        elif self.carstate == 1:\n",
    "            fd.write(\"/control/car/do 6\\n\")\n",
    "            self.carstate = 0\n",
    "        elif self.carstate == 2:\n",
    "            fd.write(\"/control/car/do 3\\n\")\n",
    "            self.carstate = 0\n",
    "    \n",
    "    def goblack(self):\n",
    "        if self.carstate == 0:\n",
    "            fd.write(\"/control/car/do 1\\n\")\n",
    "            self.carstate = 1\n",
    "        elif self.carstate == 1:\n",
    "            self.carstate = 1\n",
    "        elif self.carstate == 2:\n",
    "            fd.write(\"/control/car/do 4\\n\")\n",
    "            self.carstate = 1\n",
    "            \n",
    "    def gorobo(self):\n",
    "        if self.carstate == 0:\n",
    "            fd.write(\"/control/car/do 5\\n\")\n",
    "            self.carstate = 2\n",
    "        elif self.carstate == 1:\n",
    "            fd.write(\"/control/car/do 2\\n\")\n",
    "            self.carstate = 2\n",
    "        elif self.carstate == 2:\n",
    "            self.carstate = 2"
   ]
  },
  {
   "cell_type": "code",
   "execution_count": 20,
   "metadata": {},
   "outputs": [],
   "source": [
    "my = roboarm(0, 0, 0, 200, 200)"
   ]
  },
  {
   "cell_type": "code",
   "execution_count": 21,
   "metadata": {},
   "outputs": [],
   "source": [
    "my.readnowxyz(0,400,185)"
   ]
  },
  {
   "cell_type": "code",
   "execution_count": 22,
   "metadata": {},
   "outputs": [],
   "source": [
    "my.readcarxyz(0,267.5,88)"
   ]
  },
  {
   "cell_type": "code",
   "execution_count": 23,
   "metadata": {},
   "outputs": [],
   "source": [
    "my.readproductxyz(-150,150,0)"
   ]
  },
  {
   "cell_type": "code",
   "execution_count": 24,
   "metadata": {},
   "outputs": [],
   "source": [
    "car = CAR()\n",
    "warehouse = WAREHOUSE()"
   ]
  },
  {
   "cell_type": "code",
   "execution_count": 25,
   "metadata": {
    "scrolled": true
   },
   "outputs": [
    {
     "name": "stdout",
     "output_type": "stream",
     "text": [
      "robo init\n",
      "car init\n",
      "warehouse init\n"
     ]
    }
   ],
   "source": [
    "print(\"robo init\")\n",
    "print(\"car init\")\n",
    "print(\"warehouse init\")"
   ]
  },
  {
   "cell_type": "code",
   "execution_count": 26,
   "metadata": {
    "scrolled": true
   },
   "outputs": [],
   "source": [
    "warehouse.waretocar(0)\n",
    "car.goblack()\n",
    "warehouse.goblack()\n",
    "warehouse.waretocar(1)\n",
    "car.gorobo()"
   ]
  },
  {
   "cell_type": "code",
   "execution_count": 27,
   "metadata": {
    "scrolled": true
   },
   "outputs": [
    {
     "name": "stdout",
     "output_type": "stream",
     "text": [
      "1\n",
      " block: -10 77\n",
      "-10 344.5 150\n",
      "89.99997943865745 90.00002056131427\n",
      "61.160840355041955 122.16454105279928\n",
      "-28.839139083615493 32.16452049148501 -35\n",
      "-10 344.5 88\n",
      "61.160840355041955 122.16454105279928\n",
      "61.160840355041955 122.16454105279928\n",
      "0.0 0.0 -62\n",
      "-10 344.5 150\n",
      "61.160840355041955 122.16454105279928\n"
     ]
    },
    {
     "name": "stderr",
     "output_type": "stream",
     "text": [
      "C:\\Users\\hukq1\\Anaconda3\\lib\\site-packages\\scipy\\optimize\\minpack.py:161: RuntimeWarning: The iteration is not making good progress, as measured by the \n",
      "  improvement from the last ten iterations.\n",
      "  warnings.warn(msg, RuntimeWarning)\n"
     ]
    },
    {
     "name": "stdout",
     "output_type": "stream",
     "text": [
      "61.160840355041955 122.16454105279928\n",
      "0.0 0.0 62\n",
      "-180 180 150\n",
      "61.160840355041955 122.16454105279928\n",
      "185.47639132353288 84.52360818424131\n",
      "124.31555096849092 -37.64093286855797 0\n",
      "-180 180 30\n",
      "185.47639132353288 84.52360818424131\n",
      "185.47639132353288 84.52360818424131\n",
      "0.0 0.0 -120\n",
      "-180 180 150\n",
      "185.47639132353288 84.52360818424131\n",
      "185.47639132353288 84.52360818424131\n",
      "0.0 0.0 120\n",
      "1\n",
      " block: -38 43\n",
      "-38 310.5 150\n",
      "185.47639132353288 84.52360818424131\n",
      "135.52946295999755 58.425231234552484\n",
      "-49.946928363535335 -26.098376949688827 0\n",
      "-38 310.5 88\n",
      "135.52946295999755 58.425231234552484\n",
      "135.52946295999755 58.425231234552484\n",
      "0.0 0.0 -62\n",
      "-38 310.5 150\n",
      "135.52946295999755 58.425231234552484\n",
      "135.52946295999755 58.425231234552484\n",
      "0.0 0.0 62\n",
      "-180 180 150\n",
      "135.52946295999755 58.425231234552484\n",
      "185.47639132353288 84.52360818424131\n",
      "49.946928363535335 26.098376949688827 0\n",
      "-180 180 60\n",
      "185.47639132353288 84.52360818424131\n",
      "185.47639132353288 84.52360818424131\n",
      "0.0 0.0 -90\n",
      "-180 180 150\n",
      "185.47639132353288 84.52360818424131\n",
      "185.47639132353288 84.52360818424131\n",
      "0.0 0.0 90\n",
      "1\n",
      " block: 22 48\n",
      "22 315.5 150\n",
      "185.47639132353288 84.52360818424131\n",
      "123.76346316571231 48.25891344422975\n",
      "-61.71292815782057 -36.264694740011564 0\n",
      "22 315.5 88\n",
      "123.76346316571231 48.25891344422975\n",
      "123.76346316571231 48.25891344422975\n",
      "0.0 0.0 -62\n",
      "22 315.5 150\n",
      "123.76346316571231 48.25891344422975\n",
      "123.76346316571231 48.25891344422975\n",
      "0.0 0.0 62\n",
      "-180 180 150\n",
      "123.76346316571231 48.25891344422975\n",
      "185.47639132353288 84.52360818424131\n",
      "61.71292815782057 36.264694740011564 0\n",
      "-180 180 90\n",
      "185.47639132353288 84.52360818424131\n",
      "185.47639132353288 84.52360818424131\n",
      "0.0 0.0 -60\n",
      "-180 180 150\n",
      "185.47639132353288 84.52360818424131\n",
      "185.47639132353288 84.52360818424131\n",
      "0.0 0.0 60\n",
      "1\n",
      " block: -141 43\n",
      "-141 310.5 150\n",
      "185.47639132353288 84.52360818424131\n",
      "145.93434565467237 82.91184843739893\n",
      "-39.54204566886051 -1.611759746842381 0\n",
      "-141 310.5 88\n",
      "145.93434565467237 82.91184843739893\n",
      "145.93434565467237 82.91184843739893\n",
      "0.0 0.0 -62\n",
      "-141 310.5 150\n",
      "145.93434565467237 82.91184843739893\n",
      "145.93434565467237 82.91184843739893\n",
      "0.0 0.0 62\n",
      "-150 180 150\n",
      "145.93434565467237 82.91184843739893\n",
      "75.66288573829115 183.94825379239228\n",
      "-70.27145991638122 101.03640535499335 0\n",
      "-150 180 90\n",
      "75.66288573829115 183.94825379239228\n",
      "75.66288573829115 183.94825379239228\n",
      "0.0 0.0 -60\n",
      "-150 180 150\n",
      "75.66288573829115 183.94825379239228\n",
      "75.66288573829115 183.94825379239228\n",
      "0.0 0.0 60\n",
      "1\n",
      " block: -113 77\n",
      "-113 344.5 150\n",
      "75.66288573829115 183.94825379239228\n",
      "133.14782542796456 83.17235441331286\n",
      "57.48493968967341 -100.77589937907942 0\n",
      "-113 344.5 88\n",
      "133.14782542796456 83.17235441331286\n",
      "133.14782542796456 83.17235441331286\n",
      "0.0 0.0 -62\n",
      "-113 344.5 150\n",
      "133.14782542796456 83.17235441331286\n",
      "133.14782542796456 83.17235441331286\n",
      "0.0 0.0 62\n",
      "-180 150 150\n",
      "133.14782542796456 83.17235441331286\n",
      "86.05174444264412 194.33711301095173\n",
      "-47.09608098532044 111.16475859763887 0\n",
      "-180 150 90\n",
      "86.05174444264412 194.33711301095173\n",
      "86.05174444264412 194.33711301095173\n",
      "0.0 0.0 -60\n",
      "-180 150 150\n",
      "86.05174444264412 194.33711301095173\n",
      "86.05174444264412 194.33711301095173\n",
      "0.0 0.0 60\n",
      "1\n",
      " block: -109 16\n",
      "-109 283.5 150\n",
      "86.05174444264412 194.33711301095173\n",
      "70.43595158674907 151.6255258225683\n",
      "-15.615792855895052 -42.71158718838342 0\n",
      "-109 283.5 88\n",
      "70.43595158674907 151.6255258225683\n",
      "70.43595158674907 151.6255258225683\n",
      "0.0 0.0 -62\n",
      "-109 283.5 150\n",
      "70.43595158674907 151.6255258225683\n",
      "70.43595158674907 151.6255258225683\n",
      "0.0 0.0 62\n",
      "-180 210 150\n",
      "70.43595158674907 151.6255258225683\n",
      "84.34754949305352 176.85503964593954\n",
      "13.91159790630445 25.229513823371235 0\n",
      "-180 210 90\n",
      "84.34754949305352 176.85503964593954\n",
      "84.34754949305352 176.85503964593954\n",
      "0.0 0.0 -60\n",
      "-180 210 150\n",
      "84.34754949305352 176.85503964593954\n",
      "84.34754949305352 176.85503964593954\n",
      "0.0 0.0 60\n",
      "1\n",
      " block: -81 50\n",
      "-81 317.5 150\n",
      "84.34754949305352 176.85503964593954\n",
      "139.30975690477135 69.31405449586237\n",
      "54.96220741171783 -107.54098515007718 0\n",
      "-81 317.5 88\n",
      "139.30975690477135 69.31405449586237\n",
      "139.30975690477135 69.31405449586237\n",
      "0.0 0.0 -62\n",
      "-81 317.5 150\n",
      "139.30975690477135 69.31405449586237\n",
      "139.30975690477135 69.31405449586237\n",
      "0.0 0.0 62\n",
      "-210 180 150\n",
      "139.30975690477135 69.31405449586237\n",
      "185.65245001424773 93.14496014325414\n",
      "46.342693109476386 23.830905647391774 0\n",
      "-210 180 90\n",
      "185.65245001424773 93.14496014325414\n",
      "185.65245001424773 93.14496014325414\n",
      "0.0 0.0 -60\n",
      "-210 180 150\n",
      "185.65245001424773 93.14496014325414\n",
      "185.65245001424773 93.14496014325414\n",
      "0.0 0.0 60\n",
      "1\n",
      " block: -141 43\n",
      "-141 310.5 150\n",
      "185.65245001424773 93.14496014325414\n",
      "145.93434565467237 82.91184843739893\n",
      "-39.718104359575364 -10.233111705855208 0\n",
      "-141 310.5 88\n",
      "145.93434565467237 82.91184843739893\n",
      "145.93434565467237 82.91184843739893\n",
      "0.0 0.0 -62\n",
      "-141 310.5 150\n",
      "145.93434565467237 82.91184843739893\n",
      "145.93434565467237 82.91184843739893\n",
      "0.0 0.0 62\n",
      "-180 180 150\n",
      "145.93434565467237 82.91184843739893\n",
      "185.47639132353288 84.52360818424131\n",
      "39.54204566886051 1.611759746842381 0\n",
      "-180 180 120\n",
      "185.47639132353288 84.52360818424131\n",
      "185.47639132353288 84.52360818424131\n",
      "0.0 0.0 -30\n",
      "-180 180 150\n",
      "185.47639132353288 84.52360818424131\n",
      "185.47639132353288 84.52360818424131\n",
      "0.0 0.0 30\n"
     ]
    }
   ],
   "source": [
    "for i in data:\n",
    "    if my.getblockstate() == 0:\n",
    "        if my.getblock2() == 0:\n",
    "            car.gowhite()\n",
    "            warehouse.gotrush()\n",
    "            warehouse.cartoware()\n",
    "            warehouse.gowhite()\n",
    "            warehouse.waretocar(0)\n",
    "        elif my.getblock2 == 1:\n",
    "            car.goblack()\n",
    "            warehouse.gotrush()\n",
    "            warehouse.cartoware()\n",
    "            warehouse.goblack()\n",
    "            warehouse.waretocar(1)\n",
    "        car.gorobo()\n",
    "    else:\n",
    "        print(1)\n",
    "        blockx, blocky = my.getblock(i[3])\n",
    "        oblockx , oblocky, oblockz = my.getprodectxyz(-i[0],i[1],i[2]+30)\n",
    "        print(blockx, blocky ,my.highmax)\n",
    "        my.move(blockx, blocky ,my.highmax)\n",
    "        print(blockx, blocky ,my.carz)\n",
    "        my.move(blockx, blocky ,my.carz)\n",
    "        my.openair()\n",
    "        print(blockx, blocky ,my.highmax)\n",
    "        my.move(blockx, blocky ,my.highmax)\n",
    "        print(oblockx,oblocky,my.highmax)\n",
    "        my.move(oblockx,oblocky,my.highmax)\n",
    "        print(oblockx,oblocky,oblockz)\n",
    "        my.move(oblockx,oblocky,oblockz)\n",
    "        my.closeair()\n",
    "        print(oblockx,oblocky,my.highmax)\n",
    "        my.move(oblockx,oblocky,my.highmax)"
   ]
  },
  {
   "cell_type": "code",
   "execution_count": 28,
   "metadata": {},
   "outputs": [],
   "source": [
    "car.gowhite()\n",
    "warehouse.gotrush()\n",
    "warehouse.cartoware()\n",
    "car.goblack()\n",
    "warehouse.cartoware()"
   ]
  },
  {
   "cell_type": "code",
   "execution_count": 29,
   "metadata": {},
   "outputs": [],
   "source": [
    "fd.close()"
   ]
  },
  {
   "cell_type": "code",
   "execution_count": null,
   "metadata": {},
   "outputs": [],
   "source": []
  },
  {
   "cell_type": "code",
   "execution_count": null,
   "metadata": {},
   "outputs": [],
   "source": []
  }
 ],
 "metadata": {
  "kernelspec": {
   "display_name": "Python 3",
   "language": "python",
   "name": "python3"
  },
  "language_info": {
   "codemirror_mode": {
    "name": "ipython",
    "version": 3
   },
   "file_extension": ".py",
   "mimetype": "text/x-python",
   "name": "python",
   "nbconvert_exporter": "python",
   "pygments_lexer": "ipython3",
   "version": "3.6.4"
  }
 },
 "nbformat": 4,
 "nbformat_minor": 2
}
